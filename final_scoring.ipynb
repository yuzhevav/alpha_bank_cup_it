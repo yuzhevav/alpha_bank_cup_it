{
 "cells": [
  {
   "cell_type": "code",
   "execution_count": 3,
   "id": "ca175e72",
   "metadata": {
    "ExecuteTime": {
     "end_time": "2023-04-02T20:33:41.289996Z",
     "start_time": "2023-04-02T20:33:41.274715Z"
    }
   },
   "outputs": [],
   "source": [
    "import numpy as np\n",
    "import pandas as pd\n",
    "from catboost import CatBoostClassifier, Pool\n",
    "from sklearn.model_selection import StratifiedGroupKFold\n",
    "from sklearn.metrics import roc_auc_score, roc_curve\n",
    "import matplotlib.pyplot as plt"
   ]
  },
  {
   "cell_type": "code",
   "execution_count": 4,
   "id": "cde9a59d",
   "metadata": {
    "ExecuteTime": {
     "end_time": "2023-04-02T20:33:41.847847Z",
     "start_time": "2023-04-02T20:33:41.634605Z"
    }
   },
   "outputs": [],
   "source": [
    "score_file = pd.read_csv('score_file.csv')\n",
    "score_file_final = pd.read_csv('score_file_final.csv', index_col=0)"
   ]
  },
  {
   "cell_type": "code",
   "execution_count": 6,
   "id": "741afd01",
   "metadata": {
    "ExecuteTime": {
     "end_time": "2023-04-02T20:33:45.754061Z",
     "start_time": "2023-04-02T20:33:45.671870Z"
    }
   },
   "outputs": [],
   "source": [
    "join_df = score_file.merge(score_file_final, left_on='client_id', right_on='client_id')"
   ]
  },
  {
   "cell_type": "code",
   "execution_count": 7,
   "id": "3741d379",
   "metadata": {
    "ExecuteTime": {
     "end_time": "2023-04-02T20:33:46.225739Z",
     "start_time": "2023-04-02T20:33:46.206231Z"
    }
   },
   "outputs": [],
   "source": [
    "join_df = join_df[['client_id', 'score_y']].rename(columns={'score_y': 'score'})"
   ]
  },
  {
   "cell_type": "code",
   "execution_count": 10,
   "id": "bc20d502",
   "metadata": {
    "ExecuteTime": {
     "end_time": "2023-04-02T20:34:33.902523Z",
     "start_time": "2023-04-02T20:34:33.595622Z"
    }
   },
   "outputs": [],
   "source": [
    "join_df.to_csv('score_file_final_1.csv', index=False)"
   ]
  }
 ],
 "metadata": {
  "kernelspec": {
   "display_name": "fa-ml-course",
   "language": "python",
   "name": "fa-ml-course"
  },
  "language_info": {
   "codemirror_mode": {
    "name": "ipython",
    "version": 3
   },
   "file_extension": ".py",
   "mimetype": "text/x-python",
   "name": "python",
   "nbconvert_exporter": "python",
   "pygments_lexer": "ipython3",
   "version": "3.7.12"
  },
  "toc": {
   "base_numbering": 1,
   "nav_menu": {},
   "number_sections": true,
   "sideBar": true,
   "skip_h1_title": false,
   "title_cell": "Table of Contents",
   "title_sidebar": "Contents",
   "toc_cell": false,
   "toc_position": {},
   "toc_section_display": true,
   "toc_window_display": false
  }
 },
 "nbformat": 4,
 "nbformat_minor": 5
}
